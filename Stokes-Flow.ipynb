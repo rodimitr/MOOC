{
 "cells": [
  {
   "cell_type": "markdown",
   "metadata": {},
   "source": [
    "# Devoir de Mécanique Quantique, Q2.\n",
    "## Stokes Flow, Biharmonique.\n",
    "Dimitrov Subin et Vilarino Marine"
   ]
  },
  {
   "cell_type": "code",
   "execution_count": 1,
   "metadata": {},
   "outputs": [],
   "source": [
    "import numpy\n",
    "%matplotlib inline\n",
    "import matplotlib.pyplot as pyplot\n",
    "%matplotlib inline\n",
    "from matplotlib import rcParams, cm"
   ]
  },
  {
   "cell_type": "markdown",
   "metadata": {},
   "source": [
    "### Objectif\n",
    "\n",
    "L'objet de ce travail est de résoudre un problème nommé \"lid driven cavity flow\".\n",
    "Il s'agit de résoudre l'équation biharmonique $\\nabla^4 \\psi= 0$ ( $\\psi$ étant le champ d'écoulement) sur le domaine $\\Omega$ d'une cavité carré en considérant les conditions de bords de Neumann et Dirichlet afin d'obtenir le champ d'écoulement dans la cavité à l'état stable.\n",
    "\n",
    "### Méthode\n",
    "\n",
    "Pour ce faire, nous allons discrétiser le champ d'écoulement sur le domaine. \n",
    "\n",
    "On muni le domaine $\\Omega$ d'un système d'axes orthogonal à 2D afin de paramétriser le champ d'écoulement.\n",
    "\n",
    "On pose: \n",
    "\n",
    "Origine au coin en haut à gauche de la cavité. \n",
    "\n",
    "Axe horizontal $\\equiv$ 0x\n",
    "\n",
    "Axe vertical $\\equiv$ 0y\n",
    "\n",
    "Longueur de chaque coté de la cavité : L=1\n",
    "\n",
    "On discrétise chacun des cotés de la cavité en 41 points distanciés équitablement. Longueur entre chaque point: $\\Delta= \\frac{1}{40}$. \n",
    "\n",
    "On associe à chacun des 41x41 points du domaine une valeur de $\\psi$. $\\psi$ est ainsi discrétisé.\n",
    "\n",
    "On commence par poser une valeur estimée de $\\psi$. \n",
    "On utilise une méthode de relaxation qui commence par une hypothèse initiale pour $\\psi$, (que nous notterons $\\psi_{y,x}^{0}$ ) puis qui itère vers la solution. Nous utiliserons l'expression de notre biharmonique sous forme discrétisée (voir plus bas) pour obtenir une mise à jour, $\\psi_{y,x}^{1}$, puis continuerons à calculer $\\psi_{y,x}^{k}$ (k correspond au nombre d'itérations que nous effectuons dans le schéma de relaxation) jusqu'à ce que nous ayons sa valeur à l'état stable.\n",
    "\n",
    "En réalité le système n'atteindra l'équilibre que lorsque le nombre d'itérations tendra vers ∞, mais nous allons approximer l'état d'équilibre en itérant jusqu'à ce que le changement entre une itération et la suivante soit très faible. Nous choisirons ici la valeur $\\begin{equation}\n",
    "|\\textbf{x}| = \\sqrt{\\sum_{y=0, x=0}^{40} \\left|\\psi^{k+1}_{y,x} - \\psi^k_{y,x}\\right|^2}\n",
    "\\end{equation}  =  10^{-8}$, valeur à partir de laquelle nous considérerons notre état a l'équilibre.\n",
    "\n",
    "Ainsi nous utiliserons une boucle while qui continue à appliquer itérativement le schéma de relaxation jusqu'à ce que la différence entre deux itérations successives soit celle souhaitée.\n",
    "\n",
    "Le schéma de relaxation que nous emploierons est celui du Gradient Conjugué."
   ]
  },
  {
   "cell_type": "markdown",
   "metadata": {},
   "source": [
    "### Biharmonique \n",
    "\n",
    "Discrétisation de l'équation biharmonique $\\nabla^4 \\psi= 0$ avec l'expression des différences finies. \n",
    "\n",
    "\n",
    "\n",
    "À deux dimensions, $\\nabla^4 = \\nabla^2\\nabla^2 = \\left(\\frac{\\partial ^2}{\\partial x^2} + \\frac{\\partial ^2}{\\partial y^2}\\right)\\left(\\frac{\\partial ^2}{\\partial x^2} + \\frac{\\partial ^2}{\\partial y^2}\\right) =      \\frac{\\partial ^4}{\\partial x^4} + 2\\frac{\\partial ^4}{\\partial x^2 \\partial y^2} + \\frac{\\partial ^4}{\\partial y^4}$\n",
    "\n",
    "\n",
    "En différence centrale finie du second ordre: \n",
    "\n",
    "$\\frac{\\partial ^2 f}{\\partial r^2}=\\frac{f_{r-1}-2f_{r}+f_{r+1}}{\\Delta r^2} + {\\mathcal O}(\\Delta r^2)$\n",
    "\n",
    "$\\frac{\\partial ^4 f}{\\partial r^4}=\\frac{f_{r-2} -4f_{r-1} +6f_{r} -4f_{r+1} + f_{r+2}}{\\Delta r^4} + {\\mathcal O}(\\Delta r^4)$\n",
    "\n",
    "En combinant ces deux dernières équations dans la première et puisque $\\Delta x=\\frac{1}{40}=\\Delta y \\equiv \\Delta$, nous trouvons :\n",
    "\n",
    "$$\\nabla^4 \\psi   = \\frac{20\\psi_{y,x} - 8 \\left( \\psi_{y,x-1} + \\psi_{y,x+1} + \\psi_{y-1,x} + \\psi_{y+1,x} \\right) + 2 \\left( \\psi_{y-1,x-1} + \\psi_{y-1,x+1} + \\psi_{y+1,x-1}+ \\psi_{y+1,x+1}  \\right) + \\left(  \\psi_{y,x-2} + \\psi_{y,x+2} + \\psi_{y-2,x}+\\psi_{y+2,x}\\right)}{\\Delta^4} = 0 $$"
   ]
  },
  {
   "cell_type": "markdown",
   "metadata": {},
   "source": [
    "### Condition aux bords\n",
    "\n",
    "#### Conditions de Dirichlet\n",
    "Ce sont les conditions de la solution aux limites spécifiant la valeur de la solution au bord. \n",
    "\n",
    "Nous avons: $\\psi = 0 $ en $\\partial\\Omega$.\n",
    "Ce qui, lorsque $\\psi$ est discrétisé, donne:\n",
    "\n",
    "Left: $\\psi_{y,0} = 0 $\n",
    "\n",
    "Right : $\\psi_{y,40} = 0 $\n",
    "\n",
    "Top : $\\psi_{0,x} = 0 $\n",
    "\n",
    "Bottom: $\\psi_{40,x} = 0 $\n",
    "\n",
    "\n",
    "#### Conditions de Neumann\n",
    "\n",
    "Ce sont les conditions spécifiant la dérivée normale de la solution sur la limite.\n",
    "\n",
    "Nous avons:$\\frac{\\partial \\psi}{\\partial n} = \\left\\{\\begin{align*}\n",
    " & 0 \\text{ en } x=0,y=0 \\text{ et } y=1 & \\\\ \n",
    " & 1 \\text{ en } x=1 & \n",
    "\\end{align*}\\right.$ en posant notre origine au point en haut à gauche de la cavité.\n",
    "\n",
    "Afin d'implémenter ces conditions, nous les avons exprimées sous leur forme discrétisée au second ordre en différence finie forward et backward dont les expréssions générales sont:\n",
    "\n",
    "Forward: $\\frac{\\partial f}{\\partial n} =\\frac{-\\frac{3}{2}f_{0}+2f_{1}-\\frac{1}{2}f_{2}}{\\Delta n}$\n",
    "\n",
    "Backward: $\\frac{\\partial f}{\\partial n} =\\frac{\\frac{1}{2}f_{38}-2f_{39}+\\frac{3}{2}f_{40}}{\\Delta n}$\n",
    "\n",
    "Nous avons donc:\n",
    "\n",
    "Left (Forward) :  $\\frac{\\partial \\psi}{\\partial x} =\\frac{-\\frac{3}{2}\\psi_{y,0}+2\\psi_{y,1}-\\frac{1}{2}\\psi_{y,2}}{\\Delta }=0$           $\\Rightarrow \\psi_{y,1}=\\frac{\\psi_{y,2}}{4}$\n",
    "\n",
    "Right (Backward):  $\\frac{\\partial \\psi}{\\partial x} =\\frac{\\frac{1}{2}\\psi_{y,38}-2\\psi_{y,39}+\\frac{3}{2}\\psi_{y,40}}{\\Delta}=0 \\Rightarrow \\psi_{y,39}=\\frac{\\psi_{y,38}}{4}$\n",
    "\n",
    "Top (Forward) : $\\frac{\\partial \\psi}{\\partial y} =\\frac{-\\frac{3}{2}\\psi_{0,x}+2\\psi_{1,x}-\\frac{1}{2}\\psi_{2,x}}{\\Delta }=0 \\Rightarrow \\psi_{1,x}=\\frac{\\psi_{2,x}}{4}$\n",
    "\n",
    "Bottom (Backward):  $\\frac{\\partial \\psi}{\\partial y} =\\frac{\\frac{1}{2}\\psi_{38,x}-2\\psi_{39,x}+\\frac{3}{2}\\psi_{40,x}}{\\Delta}=1 \\Rightarrow \\psi_{39,x}=\\frac{\\psi_{38,x}}{4}-\\frac{\\Delta}{2}$"
   ]
  },
  {
   "cell_type": "code",
   "execution_count": 2,
   "metadata": {},
   "outputs": [],
   "source": [
    "nx = 41  # number of points in the x direction\n",
    "ny = 41  # number of points in the y direction\n",
    "xmin, xmax = 0.0, 1.0  # limits in the x direction\n",
    "ymin, ymax = 0.0, 1.0  # limits in the y direction\n",
    "Lx = xmax - xmin  # domain length in the x direction\n",
    "Ly = ymax - ymin  # domain length in the y direction\n",
    "dx = Lx / (nx - 1)  # grid spacing in the x direction\n",
    "dy = Ly / (ny - 1)  # grid spacing in the y direction\n",
    "\n",
    "# Create the gridline locations.\n",
    "x = numpy.linspace(xmin, xmax, num=nx)\n",
    "y = numpy.linspace(ymin, ymax, num=ny)\n",
    "\n",
    "# Measure the difference between the newly calculated flow and the old one.\n",
    "def l2_norm(new, old):\n",
    "    norm = numpy.sum(numpy.abs(new-old))\n",
    "    return norm\n",
    "\n",
    "# Set the initial guess flow.\n",
    "a0 = numpy.zeros((ny, nx)) \n",
    "\n",
    "# Set the boundary conditions.\n",
    "a0[1:-1,1]=0.25*a0[1:-1,2] # Left\n",
    "a0[1:-1,-2]=0.25*a0[1:-1,-3] # Right\n",
    "a0[1,1:-1]=0.25*a0[2,1:-1] # Top\n",
    "a0[-2,1:-1]=-0.5*dx + 0.25*a0[-3,1:-1] # Bottom\n",
    "\n"
   ]
  },
  {
   "cell_type": "markdown",
   "metadata": {},
   "source": [
    "### Méthodes des gradiants conjugué.\n",
    "\n",
    "Nous commençons par écrire notre système comme $A{\\bf p}={\\bf b}$ (convention: $\\bf p \\equiv \\psi$), où $A$ est un opérateur détérminé en utilisant les coefficients des $\\psi_{y,x}$ intervenant dans les équations discrétisées de $\\psi$ (c'est-à-dire la biharmonique et les dérivées normales aux bords). $\\bf b$ est le terme de source, obtenu en isolant les termes scalaires dans lesdites équations. \n",
    "\n",
    "Nous définissons les résidus comme étant la différence entre la solution que nous avons à l'étape n°k et le terme de source\n",
    "$ {\\bf r^k} = \\bf b - A \\bf p^k $ .\n",
    "\n",
    "La méthode de la descente la plus pentue nous a appris à utiliser le coefficient alpha $\\alpha = \\frac{{\\bf r}^k \\cdot {\\bf r}^k}{A{\\bf d}^k \\cdot {\\bf d}^k}$ qui sert à proportionner le changement que nous appliquons à notre solution d'ordre k+1 par rapport à la solution d'ordre k. \n",
    "\n",
    "Nous définissons le vecteur de direction par ${\\bf d}^{k+1}={\\bf r}^{k+1}+\\beta{\\bf d}^{k} $ et le coefficient beta, $ \\beta = \\frac{{\\bf r}^{k+1} \\cdot {\\bf r}^{k+1}}{{\\bf r}^k \\cdot {\\bf r}^k}$.\n",
    "\n",
    "Pour commencer, nous fixons notre résidu initial comme étant ${\\bf b}-A{\\bf p}^0={\\bf r}^0\\ne {\\bf 0}$. Il est à noter que $A{\\bf p}^0 = 0$.\n",
    "Nous fixons  ${\\bf d}^0 = {\\bf r}^0$.\n",
    "\n",
    "Et ensuite :\n",
    "\n",
    "1.  $\\alpha = \\frac{{\\bf r}^k \\cdot {\\bf r}^k}{A{\\bf d}^k \\cdot {\\bf d}^k}$\n",
    "2.  ${\\bf p}^{k+1}={\\bf p}^k + \\alpha {\\bf d}^k$\n",
    "3.  ${\\bf r}^{k+1} = {\\bf r}^k - \\alpha A {\\bf d}^k$ $\\ \\ \\ \\ $\n",
    "4.  $\\beta = \\frac{{\\bf r}^{k+1} \\cdot {\\bf r}^{k+1}}{{\\bf r}^k \\cdot {\\bf r}^k}$\n",
    "5.  ${\\bf d}^{k+1}={\\bf r}^{k+1}+\\beta{\\bf d}^{k}$\n",
    "6. réitération"
   ]
  },
  {
   "cell_type": "code",
   "execution_count": 3,
   "metadata": {},
   "outputs": [],
   "source": [
    "# Apply the Laplacian operator and the boundary conditions to d.\n",
    "def A(d):\n",
    "    Ad = numpy.zeros_like(d)\n",
    "    dd=d.copy()\n",
    "    d[1:-1,1]=0.25*dd[1:-1,2] # Left\n",
    "    d[1:-1,-2]=0.25*dd[1:-1,-3] # Right\n",
    "    d[1,1:-1]=0.25*dd[2,1:-1] # Top\n",
    "    d[-2,1:-1]= 0.25*dd[-3,1:-1] # Bottom\n",
    "       \n",
    "    Ad[2:-2,2:-2]= (20*d[2:-2,2:-2] - 8*d[3:-1,2:-2] - 8*d[2:-2,3:-1] - 8*d[1:-3,2:-2]\\\n",
    "            - 8*d[2:-2,1:-3] + 2*d[3:-1,1:-3] + 2*d[3:-1,3:-1] + 2*d[1:-3,1:-3]\\\n",
    "            + 2*d[1:-3,3:-1] + d[4:,2:-2] + d[:-4,2:-2] + d[2:-2,4:] + d[2:-2,:-4]) \n",
    "    return Ad\n",
    "            "
   ]
  },
  {
   "cell_type": "code",
   "execution_count": 4,
   "metadata": {},
   "outputs": [],
   "source": [
    "# Create the source term.\n",
    "b0 = numpy.zeros((ny,nx))\n",
    "b0[-3,2:-2]=-(dx*2)\n",
    "b0[-4,2:-2]=(dx/2)"
   ]
  },
  {
   "cell_type": "code",
   "execution_count": 5,
   "metadata": {},
   "outputs": [],
   "source": [
    "# Compute the solution using the method of conjugate gradient.\n",
    "def poisson_2d_conjugate_gradient(a, b, dx, dy, rtol):\n",
    "    \"\"\"\n",
    "    Solves the 2D Poisson equation on a uniform grid,\n",
    "    with the same grid spacing in both directions,\n",
    "    for a given forcing term\n",
    "    using the method of steepest descent.\n",
    "    \n",
    "    The function assumes Dirichlet boundary conditions with value zero\n",
    "    and Neumann boundary conditions with value zero everywhere unless \n",
    "    on the low edges where the value is one.\n",
    "    \n",
    "    The exit criterion of the solver is based on the relative L2-norm\n",
    "    of the solution difference between two consecutive iterations.\n",
    "\n",
    "    Parameters\n",
    "    ----------\n",
    "    a : numpy.ndarray\n",
    "        The initial solution as a 2D array of floats.\n",
    "    b : numpy.ndarray\n",
    "        The forcing term as a 2D array of floats.\n",
    "    dx : float\n",
    "        Grid spacing in the x direction.\n",
    "    dy : float\n",
    "        Grid spacing in the y direction.\n",
    "    rtol : float, optional\n",
    "        Relative tolerance for convergence;\n",
    "        default: 1e-6.\n",
    "\n",
    "    Returns\n",
    "    -------\n",
    "    p : numpy.ndarray\n",
    "        The solution after relaxation as a 2D array of floats.\n",
    "    \"\"\"\n",
    "\n",
    "    r = numpy.zeros_like(a)  # initial residual\n",
    "    Ad = numpy.zeros_like(a)  # to store the mat-vec multiplication\n",
    "    \n",
    "    diff = rtol + 1  # initial difference\n",
    "\n",
    "    # Compute the initial residual.\n",
    "    r=b\n",
    "    # Set the initial search direction to be the residual.\n",
    "    d = r.copy()\n",
    "    while diff > rtol:\n",
    "        ak = a.copy()\n",
    "        rk = r.copy()\n",
    "        # Compute the Laplacian of the search direction.\n",
    "        Ad = A(d)\n",
    "        # Compute the step size.\n",
    "        alpha = numpy.sum(r * r) / numpy.sum(d * Ad)\n",
    "        # Update the solution.\n",
    "        a = ak + alpha * d\n",
    "        a[:,0]=0\n",
    "        a[:,-1]=0\n",
    "        a[0,:]=0\n",
    "        a[-1,:]=0\n",
    "\n",
    "        #Conditions de Neumann\n",
    "        a[-2,1:-1]=-0.5*dx + 0.25*a[-3,1:-1]\n",
    "        a[1,1:-1]=0.25*a[2,1:-1]\n",
    "        a[1:-1,1]=0.25*a[1:-1,2]\n",
    "        a[1:-1,-2]=0.25*a[1:-1,-3]\n",
    "        # Update the residual.\n",
    "        r = rk - alpha * Ad\n",
    "        # Update the search direction.\n",
    "        beta = numpy.sum(r * r) / numpy.sum(rk * rk)\n",
    "        d = r + beta * d\n",
    "        # Dirichlet boundary conditions are automatically enforced.\n",
    "        # Compute the relative L2-norm of the difference.\n",
    "        diff = l2_norm(a, ak)\n",
    "        \n",
    "\n",
    "    return a"
   ]
  },
  {
   "cell_type": "code",
   "execution_count": 6,
   "metadata": {},
   "outputs": [
    {
     "data": {
      "text/plain": [
       "<function matplotlib.pyplot.colorbar(mappable=None, cax=None, ax=None, **kw)>"
      ]
     },
     "execution_count": 6,
     "metadata": {},
     "output_type": "execute_result"
    },
    {
     "data": {
      "image/png": "[encoded data removed]",
      "text/plain": [
       "<Figure size 576x576 with 1 Axes>"
      ]
     },
     "metadata": {
      "needs_background": "light"
     },
     "output_type": "display_data"
    }
   ],
   "source": [
    "# a value in stady state.\n",
    "a=poisson_2d_conjugate_gradient(a0, b0, dx, dy,1e-6)\n",
    "\n",
    "# Plot the contour plot of streamfunction at steady state.\n",
    "fig=pyplot.figure(figsize=(8,8))\n",
    "pyplot.contourf(x,y,a,11, cmap=cm.viridis)\n",
    "pyplot.title(' Contour plot of streamfunction at steady state')  # set the title\n",
    "pyplot.xlabel('$x$')\n",
    "pyplot.ylabel('$y$')\n",
    "pyplot.colorbar"
   ]
  },
  {
   "cell_type": "code",
   "execution_count": 7,
   "metadata": {},
   "outputs": [
    {
     "name": "stdout",
     "output_type": "stream",
     "text": [
      "Valeur en x=0.6 et y=0.2: -0.010031150164403818\n",
      "Valeur en x=0.6 et y=0.4: -0.03613391670775477\n",
      "Valeur en x=0.6 et y=0.6: -0.07376729712960138\n",
      "Valeur en x=0.6 et y=0.8: -0.09444454556079468\n"
     ]
    }
   ],
   "source": [
    "print('Valeur en x=0.6 et y=0.2: {}'.format(a[8,24]))\n",
    "print('Valeur en x=0.6 et y=0.4: {}'.format(a[16,24]))\n",
    "print('Valeur en x=0.6 et y=0.6: {}'.format(a[24,24]))\n",
    "print('Valeur en x=0.6 et y=0.8: {}'.format(a[32,24]))"
   ]
  },
  {
   "cell_type": "markdown",
   "metadata": {},
   "source": [
    "## Conclusion\n",
    "\n",
    "Nous obtenons comme valeurs pour $\\psi$ \n",
    "\n",
    "\\begin{array}{|c|c|c|}\n",
    "\\hline x & y & \\psi \\\\\\hline\n",
    "  0.6 & 0.2 & -0.010031150164403818 \\\\\\hline\n",
    "  0.6 & 0.4 & -0.03613391670775477 \\\\\\hline\n",
    "  0.6 & 0.6 & -0.07376729712960138 \\\\\\hline\n",
    "  0.6 & 0.8 & -0.09444454556079468 \\\\\\hline\n",
    "\\end{array}\n",
    "\n"
   ]
  },
  {
   "cell_type": "code",
   "execution_count": 8,
   "metadata": {},
   "outputs": [
    {
     "data": {
      "text/plain": [
       "8"
      ]
     },
     "execution_count": 8,
     "metadata": {},
     "output_type": "execute_result"
    }
   ],
   "source": [
    "5+3"
   ]
  },
  {
   "cell_type": "code",
   "execution_count": null,
   "metadata": {},
   "outputs": [],
   "source": []
  }
 ],
 "metadata": {
  "kernelspec": {
   "display_name": "Python 3",
   "language": "python",
   "name": "python3"
  },
  "language_info": {
   "codemirror_mode": {
    "name": "ipython",
    "version": 3
   },
   "file_extension": ".py",
   "mimetype": "text/x-python",
   "name": "python",
   "nbconvert_exporter": "python",
   "pygments_lexer": "ipython3",
   "version": "3.7.0"
  }
 },
 "nbformat": 4,
 "nbformat_minor": 2
}
